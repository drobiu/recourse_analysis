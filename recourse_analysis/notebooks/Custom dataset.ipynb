{
 "cells": [
  {
   "cell_type": "code",
   "execution_count": null,
   "id": "c9d442c5",
   "metadata": {},
   "outputs": [],
   "source": [
    "import warnings\n",
    "warnings.filterwarnings(\"ignore\")\n",
    "\n",
    "from carla.data.catalog import CsvCatalog\n",
    "from carla import MLModelCatalog\n",
    "from carla.recourse_methods import Clue, Wachter\n",
    "from carla.models.negative_instances import predict_negative_instances\n",
    "import numpy as np\n",
    "# import torch\n",
    "\n",
    "import sys\n",
    "sys.path.insert(0,'..')\n",
    "from recourse_util import update_dataset, train_recourse_method, predict, print_scores \n",
    "\n",
    "num = 10\n",
    "# print(torch.cuda.is_available())"
   ]
  },
  {
   "cell_type": "code",
   "execution_count": null,
   "id": "a4a04f12",
   "metadata": {},
   "outputs": [],
   "source": [
    "def train_new_model(dataset):\n",
    "    model = MLModelCatalog(dataset, \"ann\", load_online=False, backend=\"pytorch\")\n",
    "    model.train(\n",
    "        learning_rate = 0.001,\n",
    "        epochs = 10,\n",
    "        max_depth = 50,\n",
    "        n_estimators = 50,\n",
    "        batch_size = 20,\n",
    "        force_train = True\n",
    "    )\n",
    "    return model"
   ]
  },
  {
   "cell_type": "code",
   "execution_count": null,
   "id": "1a0905ad",
   "metadata": {},
   "outputs": [],
   "source": [
    "dataset = CsvCatalog(\n",
    "    # file_path='datasets/bimodal_dataset_1.csv',\n",
    "    file_path='datasets/unimodal_dataset_1.csv',\n",
    "    # file_path='datasets/unimodal_dataset_2.csv',\n",
    "    categorical=[],\n",
    "    continuous=['feature1', 'feature2'],\n",
    "    immutables=[],\n",
    "    target='target'\n",
    ")"
   ]
  },
  {
   "cell_type": "code",
   "execution_count": null,
   "id": "792424da",
   "metadata": {},
   "outputs": [],
   "source": [
    "training_params = {\"lr\": 0.01, \"epochs\": 4, \"batch_size\": 1, \"hidden_size\": [20, 20]}\n",
    "\n",
    "model = MLModelCatalog(\n",
    "    dataset,\n",
    "    model_type=\"ann\",\n",
    "    load_online=False,\n",
    "    backend=\"pytorch\"\n",
    ")\n",
    "\n",
    "model.train(\n",
    "    learning_rate=training_params[\"lr\"],\n",
    "    epochs=training_params[\"epochs\"],\n",
    "    batch_size=training_params[\"batch_size\"],\n",
    "    hidden_size=training_params[\"hidden_size\"],\n",
    "    force_train=True\n",
    ")"
   ]
  },
  {
   "cell_type": "code",
   "execution_count": null,
   "id": "4eb46933",
   "metadata": {},
   "outputs": [],
   "source": []
  },
  {
   "cell_type": "code",
   "execution_count": null,
   "id": "2679a915",
   "metadata": {},
   "outputs": [],
   "source": [
    "hyperparams = {\n",
    "        \"loss_type\": \"BCE\"\n",
    "    }\n",
    "\n",
    "# load a recourse model and pass black box model\n",
    "cl = Wachter(model, hyperparams)"
   ]
  },
  {
   "cell_type": "code",
   "execution_count": null,
   "id": "a9bfee24",
   "metadata": {},
   "outputs": [],
   "source": [
    "# generate counterfactual samples\n",
    "factuals = predict_negative_instances(model, dataset._df).sample(num)\n",
    "print(\"Number of factuals\", len(factuals))\n",
    "factuals"
   ]
  },
  {
   "cell_type": "code",
   "execution_count": null,
   "id": "8a8e85ef",
   "metadata": {},
   "outputs": [],
   "source": [
    "counterfactuals = cl.get_counterfactuals(factuals)\n",
    "print(\"Number of counterfactuals:\", len(counterfactuals.dropna()))\n",
    "counterfactuals"
   ]
  },
  {
   "cell_type": "code",
   "execution_count": null,
   "id": "f390d097",
   "metadata": {},
   "outputs": [],
   "source": [
    "counterfactuals"
   ]
  },
  {
   "cell_type": "code",
   "execution_count": null,
   "id": "cb632d83",
   "metadata": {},
   "outputs": [],
   "source": [
    "post = dataset._df.copy()\n",
    "update_dataset(post, factuals, counterfactuals)"
   ]
  },
  {
   "cell_type": "code",
   "execution_count": null,
   "id": "bf8c358d",
   "metadata": {},
   "outputs": [],
   "source": [
    "import matplotlib.pyplot as plt\n",
    "\n",
    "plt.scatter(dataset._df['feature1'], dataset._df['feature2'], c=dataset._df['target'])\n",
    "plt.show()\n",
    "\n",
    "plt.scatter(post['feature1'], post['feature2'], c=post['target'])\n",
    "plt.show()\n",
    "\n",
    "# plt.scatter(factuals['feature1'], factuals['feature2'], c=factuals['target'])\n",
    "# plt.show()"
   ]
  },
  {
   "cell_type": "code",
   "execution_count": null,
   "id": "01e49fe5",
   "metadata": {},
   "outputs": [],
   "source": [
    "from carla.evaluation.benchmark import Benchmark\n",
    "benchmark = Benchmark(model, cl, factuals)\n",
    "benchmark.run_benchmark()"
   ]
  },
  {
   "cell_type": "code",
   "execution_count": null,
   "id": "f199c970",
   "metadata": {},
   "outputs": [],
   "source": [
    "for i in range(10):\n",
    "    print(cl.get_counterfactuals(factuals.iloc[:2]))"
   ]
  },
  {
   "cell_type": "code",
   "execution_count": null,
   "id": "5204f2a6",
   "metadata": {},
   "outputs": [],
   "source": [
    "hyperparams = {\n",
    "                \"data_name\": 'custom',\n",
    "                \"train_vae\": True,\n",
    "                \"width\": 10,\n",
    "                \"depth\": 3,\n",
    "                \"latent_dim\": 12,\n",
    "                \"batch_size\": 4,\n",
    "                \"epochs\": 5,\n",
    "                \"lr\": 0.0001,\n",
    "                \"early_stop\": 20,\n",
    "            }\n",
    "\n",
    "cl = train_recourse_method(dataset, model, 'custom', 'CLUE', hyperparams)\n",
    "\n",
    "for i in range(10):\n",
    "    print(cl.get_counterfactuals(factuals.iloc[6:8]))"
   ]
  },
  {
   "cell_type": "code",
   "execution_count": null,
   "id": "441e5efc",
   "metadata": {},
   "outputs": [],
   "source": []
  }
 ],
 "metadata": {
  "kernelspec": {
   "display_name": "recourse2",
   "language": "python",
   "name": "recourse2"
  },
  "language_info": {
   "codemirror_mode": {
    "name": "ipython",
    "version": 3
   },
   "file_extension": ".py",
   "mimetype": "text/x-python",
   "name": "python",
   "nbconvert_exporter": "python",
   "pygments_lexer": "ipython3",
   "version": "3.7.13"
  }
 },
 "nbformat": 4,
 "nbformat_minor": 5
}
