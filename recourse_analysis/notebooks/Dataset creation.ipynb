{
 "cells": [
  {
   "cell_type": "code",
   "execution_count": 72,
   "id": "a68d1241",
   "metadata": {},
   "outputs": [],
   "source": [
    "import warnings\n",
    "warnings.filterwarnings(\"ignore\")\n",
    "\n",
    "from carla.data.catalog import OnlineCatalog, CsvCatalog\n",
    "from sklearn.model_selection import train_test_split\n",
    "import pandas as pd\n",
    "import numpy as np\n",
    "import json"
   ]
  },
  {
   "cell_type": "code",
   "execution_count": 54,
   "id": "9b77f8cb",
   "metadata": {},
   "outputs": [],
   "source": [
    "dataset = OnlineCatalog('give_me_some_credit')\n",
    "target = dataset.target"
   ]
  },
  {
   "cell_type": "code",
   "execution_count": 57,
   "id": "a1cbbcf8",
   "metadata": {},
   "outputs": [],
   "source": [
    "np.random.seed(42)\n",
    "df = dataset.df\n",
    "df = df.sample(3000)\n",
    "\n",
    "df[target] = np.where(df[target] > 0.5, 0, 1)\n",
    "\n",
    "X_train, X_test, y_train, y_test = train_test_split(df.drop(target, axis=1), df[target], \n",
    "                                                    test_size=0.33, random_state=42, stratify=df[target]\n",
    "                                                   )\n",
    "\n",
    "df = df.sort_values(target, ignore_index=True)"
   ]
  },
  {
   "cell_type": "code",
   "execution_count": 71,
   "id": "bd317a1b",
   "metadata": {},
   "outputs": [],
   "source": [
    "with open('datasets/give_me_some_credit/give_me_some_credit.csv', 'w+', newline='') as f:\n",
    "    f.write(df.to_csv(index=False))\n",
    "        \n",
    "    f.close()"
   ]
  },
  {
   "cell_type": "code",
   "execution_count": 75,
   "id": "42566669",
   "metadata": {},
   "outputs": [],
   "source": [
    "with open('datasets/give_me_some_credit/metadata.json', 'w+') as f:\n",
    "    metadata = {\n",
    "        'filename': 'give_me_some_credit.csv',\n",
    "        'continuous': dataset.continuous,\n",
    "        'categorical': dataset.categorical,\n",
    "        'immutables': dataset.immutables,\n",
    "        'target': dataset.target\n",
    "    }\n",
    "    json.dump(metadata, f, indent=4)"
   ]
  },
  {
   "cell_type": "code",
   "execution_count": 79,
   "id": "0f429737",
   "metadata": {},
   "outputs": [],
   "source": [
    "metadata = json.load(open('datasets/give_me_some_credit/metadata.json'))\n",
    "\n",
    "dataset_csv = CsvCatalog('datasets/give_me_some_credit/give_me_some_credit.csv',\n",
    "                        continuous=metadata['continuous'],\n",
    "                        categorical=metadata['categorical'],\n",
    "                        immutables=metadata['immutables'],\n",
    "                        target=metadata['target'])"
   ]
  },
  {
   "cell_type": "code",
   "execution_count": 81,
   "id": "25e7eeb6",
   "metadata": {},
   "outputs": [
    {
     "data": {
      "text/plain": [
       "'SeriousDlqin2yrs'"
      ]
     },
     "execution_count": 81,
     "metadata": {},
     "output_type": "execute_result"
    }
   ],
   "source": [
    "dataset_csv.target"
   ]
  },
  {
   "cell_type": "code",
   "execution_count": null,
   "id": "8299293a",
   "metadata": {},
   "outputs": [],
   "source": []
  }
 ],
 "metadata": {
  "kernelspec": {
   "display_name": "recourse2",
   "language": "python",
   "name": "recourse2"
  },
  "language_info": {
   "codemirror_mode": {
    "name": "ipython",
    "version": 3
   },
   "file_extension": ".py",
   "mimetype": "text/x-python",
   "name": "python",
   "nbconvert_exporter": "python",
   "pygments_lexer": "ipython3",
   "version": "3.7.13"
  }
 },
 "nbformat": 4,
 "nbformat_minor": 5
}
