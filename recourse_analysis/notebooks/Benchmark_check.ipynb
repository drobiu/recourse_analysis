{
 "cells": [
  {
   "cell_type": "code",
   "execution_count": 28,
   "id": "383aa3ef",
   "metadata": {},
   "outputs": [],
   "source": [
    "import warnings\n",
    "warnings.filterwarnings(\"ignore\")\n",
    "\n",
    "from carla.data.catalog import OnlineCatalog\n",
    "from carla import MLModelCatalog\n",
    "from carla.recourse_methods import Clue, Wachter, GrowingSpheres\n",
    "from carla.models.negative_instances import predict_negative_instances\n",
    "from carla.evaluation.benchmark import Benchmark\n",
    "import numpy as np\n",
    "import pandas as pd\n",
    "from sklearn.metrics import f1_score, accuracy_score\n",
    "from time import perf_counter\n",
    "\n",
    "num = 10\n",
    "data_name = \"compas\""
   ]
  },
  {
   "cell_type": "code",
   "execution_count": null,
   "id": "83bbdaf3",
   "metadata": {},
   "outputs": [],
   "source": [
    "dataset = OnlineCatalog(data_name)"
   ]
  },
  {
   "cell_type": "code",
   "execution_count": null,
   "id": "316a2f95",
   "metadata": {},
   "outputs": [],
   "source": [
    "model = MLModelCatalog(dataset, \"ann\", backend=\"pytorch\")\n",
    "model.train(\n",
    "    learning_rate = 0.001,\n",
    "    epochs = 10,\n",
    "    max_depth = 50,\n",
    "    n_estimators = 50,\n",
    "    batch_size = 20,\n",
    "    force_train = True\n",
    ")"
   ]
  },
  {
   "cell_type": "code",
   "execution_count": null,
   "id": "7c97ab6d",
   "metadata": {},
   "outputs": [],
   "source": [
    "hyperparams = {\n",
    "    \"data_name\": data_name,\n",
    "    \"train_vae\": True,\n",
    "    \"width\": 10,\n",
    "    \"depth\": 3,\n",
    "    \"latent_dim\": 12,\n",
    "    \"batch_size\": 64,\n",
    "    \"epochs\": 1,\n",
    "    \"lr\": 0.001,\n",
    "    \"early_stop\": 20,\n",
    "}\n",
    "# load a recourse model and pass black box model\n",
    "cl = Clue(dataset, model, hyperparams)\n",
    "\n",
    "wa = Wachter(model, {\"loss_type\": \"BCE\"})"
   ]
  },
  {
   "cell_type": "code",
   "execution_count": null,
   "id": "0271aa8d",
   "metadata": {},
   "outputs": [],
   "source": [
    "factuals = predict_negative_instances(model, dataset._df).sample(10)\n",
    "\n",
    "wa_counterfactuals = wa.get_counterfactuals(factuals)\n",
    "cl_counterfactuals = cl.get_counterfactuals(factuals)"
   ]
  },
  {
   "cell_type": "code",
   "execution_count": null,
   "id": "752b3f96",
   "metadata": {},
   "outputs": [],
   "source": [
    "display(factuals.index)\n",
    "display(cl_counterfactuals.index)\n",
    "display(wa_counterfactuals.index)"
   ]
  },
  {
   "cell_type": "code",
   "execution_count": 30,
   "id": "e4a3b005",
   "metadata": {},
   "outputs": [],
   "source": [
    "gs = GrowingSpheres(model, dataset)"
   ]
  },
  {
   "cell_type": "code",
   "execution_count": 32,
   "id": "5e12d8f7",
   "metadata": {},
   "outputs": [
    {
     "ename": "TypeError",
     "evalue": "'builtin_function_or_method' object is not iterable",
     "output_type": "error",
     "traceback": [
      "\u001b[1;31m---------------------------------------------------------------------------\u001b[0m",
      "\u001b[1;31mTypeError\u001b[0m                                 Traceback (most recent call last)",
      "\u001b[1;32m~\\AppData\\Local\\Temp\\ipykernel_11196\\2365896857.py\u001b[0m in \u001b[0;36m<module>\u001b[1;34m\u001b[0m\n\u001b[1;32m----> 1\u001b[1;33m \u001b[0mbenchmark\u001b[0m \u001b[1;33m=\u001b[0m \u001b[0mBenchmark\u001b[0m\u001b[1;33m(\u001b[0m\u001b[0mmodel\u001b[0m\u001b[1;33m,\u001b[0m \u001b[0mgs\u001b[0m\u001b[1;33m,\u001b[0m \u001b[0mfactuals\u001b[0m\u001b[1;33m)\u001b[0m\u001b[1;33m\u001b[0m\u001b[1;33m\u001b[0m\u001b[0m\n\u001b[0m",
      "\u001b[1;32m~\\anaconda3\\envs\\recourse2\\lib\\site-packages\\carla\\evaluation\\benchmark.py\u001b[0m in \u001b[0;36m__init__\u001b[1;34m(self, mlmodel, recourse_method, factuals)\u001b[0m\n\u001b[0;32m     61\u001b[0m         \u001b[0mself\u001b[0m\u001b[1;33m.\u001b[0m\u001b[0m_recourse_method\u001b[0m \u001b[1;33m=\u001b[0m \u001b[0mrecourse_method\u001b[0m\u001b[1;33m\u001b[0m\u001b[1;33m\u001b[0m\u001b[0m\n\u001b[0;32m     62\u001b[0m         \u001b[0mstart\u001b[0m \u001b[1;33m=\u001b[0m \u001b[0mtimeit\u001b[0m\u001b[1;33m.\u001b[0m\u001b[0mdefault_timer\u001b[0m\u001b[1;33m(\u001b[0m\u001b[1;33m)\u001b[0m\u001b[1;33m\u001b[0m\u001b[1;33m\u001b[0m\u001b[0m\n\u001b[1;32m---> 63\u001b[1;33m         \u001b[0mself\u001b[0m\u001b[1;33m.\u001b[0m\u001b[0m_counterfactuals\u001b[0m \u001b[1;33m=\u001b[0m \u001b[0mrecourse_method\u001b[0m\u001b[1;33m.\u001b[0m\u001b[0mget_counterfactuals\u001b[0m\u001b[1;33m(\u001b[0m\u001b[0mfactuals\u001b[0m\u001b[1;33m)\u001b[0m\u001b[1;33m\u001b[0m\u001b[1;33m\u001b[0m\u001b[0m\n\u001b[0m\u001b[0;32m     64\u001b[0m         \u001b[0mstop\u001b[0m \u001b[1;33m=\u001b[0m \u001b[0mtimeit\u001b[0m\u001b[1;33m.\u001b[0m\u001b[0mdefault_timer\u001b[0m\u001b[1;33m(\u001b[0m\u001b[1;33m)\u001b[0m\u001b[1;33m\u001b[0m\u001b[1;33m\u001b[0m\u001b[0m\n\u001b[0;32m     65\u001b[0m         \u001b[0mself\u001b[0m\u001b[1;33m.\u001b[0m\u001b[0m_timer\u001b[0m \u001b[1;33m=\u001b[0m \u001b[0mstop\u001b[0m \u001b[1;33m-\u001b[0m \u001b[0mstart\u001b[0m\u001b[1;33m\u001b[0m\u001b[1;33m\u001b[0m\u001b[0m\n",
      "\u001b[1;32m~\\anaconda3\\envs\\recourse2\\lib\\site-packages\\carla\\recourse_methods\\catalog\\growing_spheres\\model.py\u001b[0m in \u001b[0;36mget_counterfactuals\u001b[1;34m(self, factuals)\u001b[0m\n\u001b[0;32m     71\u001b[0m             \u001b[0mlist_cfs\u001b[0m\u001b[1;33m.\u001b[0m\u001b[0mappend\u001b[0m\u001b[1;33m(\u001b[0m\u001b[0mcounterfactual\u001b[0m\u001b[1;33m)\u001b[0m\u001b[1;33m\u001b[0m\u001b[1;33m\u001b[0m\u001b[0m\n\u001b[0;32m     72\u001b[0m \u001b[1;33m\u001b[0m\u001b[0m\n\u001b[1;32m---> 73\u001b[1;33m         \u001b[0mdf_cfs\u001b[0m \u001b[1;33m=\u001b[0m \u001b[0mcheck_counterfactuals\u001b[0m\u001b[1;33m(\u001b[0m\u001b[0mself\u001b[0m\u001b[1;33m.\u001b[0m\u001b[0m_mlmodel\u001b[0m\u001b[1;33m,\u001b[0m \u001b[0mlist_cfs\u001b[0m\u001b[1;33m)\u001b[0m\u001b[1;33m\u001b[0m\u001b[1;33m\u001b[0m\u001b[0m\n\u001b[0m\u001b[0;32m     74\u001b[0m \u001b[1;33m\u001b[0m\u001b[0m\n\u001b[0;32m     75\u001b[0m         \u001b[1;32mreturn\u001b[0m \u001b[0mdf_cfs\u001b[0m\u001b[1;33m\u001b[0m\u001b[1;33m\u001b[0m\u001b[0m\n",
      "\u001b[1;32m~\\anaconda3\\envs\\recourse2\\lib\\site-packages\\carla\\recourse_methods\\processing\\counterfactuals.py\u001b[0m in \u001b[0;36mcheck_counterfactuals\u001b[1;34m(mlmodel, counterfactuals, negative_label)\u001b[0m\n\u001b[0;32m     30\u001b[0m     \u001b[1;32mif\u001b[0m \u001b[0misinstance\u001b[0m\u001b[1;33m(\u001b[0m\u001b[0mcounterfactuals\u001b[0m\u001b[1;33m,\u001b[0m \u001b[0mlist\u001b[0m\u001b[1;33m)\u001b[0m\u001b[1;33m:\u001b[0m\u001b[1;33m\u001b[0m\u001b[1;33m\u001b[0m\u001b[0m\n\u001b[0;32m     31\u001b[0m         df_cfs = pd.DataFrame(\n\u001b[1;32m---> 32\u001b[1;33m             \u001b[0mnp\u001b[0m\u001b[1;33m.\u001b[0m\u001b[0marray\u001b[0m\u001b[1;33m(\u001b[0m\u001b[0mcounterfactuals\u001b[0m\u001b[1;33m)\u001b[0m\u001b[1;33m,\u001b[0m \u001b[0mcolumns\u001b[0m\u001b[1;33m=\u001b[0m\u001b[0mmlmodel\u001b[0m\u001b[1;33m.\u001b[0m\u001b[0mfeature_input_order\u001b[0m\u001b[1;33m\u001b[0m\u001b[1;33m\u001b[0m\u001b[0m\n\u001b[0m\u001b[0;32m     33\u001b[0m         )\n\u001b[0;32m     34\u001b[0m     \u001b[1;32melse\u001b[0m\u001b[1;33m:\u001b[0m\u001b[1;33m\u001b[0m\u001b[1;33m\u001b[0m\u001b[0m\n",
      "\u001b[1;31mTypeError\u001b[0m: 'builtin_function_or_method' object is not iterable"
     ]
    }
   ],
   "source": [
    "benchmark = Benchmark(model, gs, factuals)"
   ]
  },
  {
   "cell_type": "code",
   "execution_count": null,
   "id": "d66b3fc1",
   "metadata": {},
   "outputs": [],
   "source": [
    "benchmark.run_benchmark()"
   ]
  },
  {
   "cell_type": "code",
   "execution_count": null,
   "id": "1b80a45a",
   "metadata": {},
   "outputs": [],
   "source": [
    "factuals.index\n",
    "model.feature_input_order"
   ]
  },
  {
   "cell_type": "code",
   "execution_count": null,
   "id": "1c1bd101",
   "metadata": {},
   "outputs": [],
   "source": [
    "df_cfs = pd.DataFrame(\n",
    "    np.array(factuals[model.feature_input_order]), columns=model.feature_input_order, index=list(factuals.index)\n",
    ")"
   ]
  },
  {
   "cell_type": "code",
   "execution_count": null,
   "id": "ef542b50",
   "metadata": {},
   "outputs": [],
   "source": [
    "df_cfs.index = factuals.index"
   ]
  },
  {
   "cell_type": "code",
   "execution_count": null,
   "id": "c2cdd27f",
   "metadata": {},
   "outputs": [],
   "source": [
    "df_cfs"
   ]
  },
  {
   "cell_type": "code",
   "execution_count": null,
   "id": "c651bc45",
   "metadata": {},
   "outputs": [],
   "source": []
  }
 ],
 "metadata": {
  "kernelspec": {
   "display_name": "recourse2",
   "language": "python",
   "name": "recourse2"
  },
  "language_info": {
   "codemirror_mode": {
    "name": "ipython",
    "version": 3
   },
   "file_extension": ".py",
   "mimetype": "text/x-python",
   "name": "python",
   "nbconvert_exporter": "python",
   "pygments_lexer": "ipython3",
   "version": "3.7.13"
  }
 },
 "nbformat": 4,
 "nbformat_minor": 5
}
