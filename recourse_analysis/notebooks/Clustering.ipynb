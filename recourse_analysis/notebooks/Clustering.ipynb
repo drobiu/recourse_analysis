{
 "cells": [
  {
   "cell_type": "code",
   "execution_count": 4,
   "id": "a30d6732",
   "metadata": {},
   "outputs": [],
   "source": [
    "# import warnings\n",
    "# warnings.filterwarnings(\"ignore\")\n",
    "\n",
    "from carla.data.catalog import CsvCatalog\n",
    "from carla import MLModelCatalog\n",
    "from carla.recourse_methods import Clue, Wachter\n",
    "from carla.models.negative_instances import predict_negative_instances\n",
    "from sklearn.cluster import KMeans\n",
    "from sklearn import metrics\n",
    "import numpy as np\n",
    "import matplotlib.pyplot as plt\n",
    "\n",
    "import sys\n",
    "sys.path.insert(0,'../..')\n",
    "from recourse_analysis.util.recourse_util import update_dataset, train_recourse_method\n",
    "\n",
    "num = 10"
   ]
  },
  {
   "cell_type": "code",
   "execution_count": 5,
   "id": "9ded2180",
   "metadata": {},
   "outputs": [],
   "source": [
    "def find_elbow(dataset, n=10):\n",
    "    ch_metrics = []\n",
    "    x = dataset.df[dataset.continuous]\n",
    "    \n",
    "    for i in range(2, n):\n",
    "        model = KMeans(n_clusters=i, random_state=1).fit(x)\n",
    "        ch_metrics.append(metrics.calinski_harabasz_score(x, model.labels_))\n",
    "        \n",
    "    plt.plot(ch_metrics)\n",
    "    plt.show()\n",
    "        \n",
    "    return ch_metrics.index(np.max(ch_metrics)) + 2"
   ]
  },
  {
   "cell_type": "code",
   "execution_count": 14,
   "id": "90dcc673",
   "metadata": {},
   "outputs": [],
   "source": [
    "dataset = CsvCatalog(\n",
    "    file_path='datasets/skewed_distribution.csv',\n",
    "    categorical=[],\n",
    "    continuous=['feature1', 'feature2'],\n",
    "    immutables=[],\n",
    "    target='target'\n",
    ")"
   ]
  },
  {
   "cell_type": "code",
   "execution_count": 15,
   "id": "8e8cb0e1",
   "metadata": {},
   "outputs": [],
   "source": [
    "distortions = []"
   ]
  },
  {
   "cell_type": "code",
   "execution_count": 16,
   "id": "8071a3c7",
   "metadata": {},
   "outputs": [],
   "source": [
    "for i in range(1, 10):\n",
    "    kmeans = KMeans(i).fit(dataset._df[dataset.continuous])\n",
    "    distortions.append(kmeans.inertia_)"
   ]
  },
  {
   "cell_type": "code",
   "execution_count": 17,
   "id": "a98e0d26",
   "metadata": {},
   "outputs": [],
   "source": [
    "delta = [distortions[n] - distortions[n+1] for n in range(len(distortions) - 1)]\n",
    "delta_delta = [delta[n] - delta[n+1] for n in range(len(delta) - 1)]"
   ]
  },
  {
   "cell_type": "code",
   "execution_count": 18,
   "id": "dc8fa309",
   "metadata": {},
   "outputs": [
    {
     "data": {
      "image/png": "[encoded data removed]",
      "text/plain": [
       "<Figure size 432x288 with 1 Axes>"
      ]
     },
     "metadata": {
      "needs_background": "light"
     },
     "output_type": "display_data"
    }
   ],
   "source": [
    "plt.plot(distortions)\n",
    "plt.show()"
   ]
  },
  {
   "cell_type": "code",
   "execution_count": 19,
   "id": "01dfabe0",
   "metadata": {},
   "outputs": [],
   "source": [
    "delta_delta = delta_delta/np.max(delta_delta)"
   ]
  },
  {
   "cell_type": "code",
   "execution_count": 20,
   "id": "700469e8",
   "metadata": {},
   "outputs": [
    {
     "data": {
      "text/plain": [
       "array([1.00000000e+00, 1.20542595e-02, 1.27529245e-02, 4.41159398e-03,\n",
       "       2.87158059e-03, 1.56677799e-03, 5.65913367e-04])"
      ]
     },
     "execution_count": 20,
     "metadata": {},
     "output_type": "execute_result"
    }
   ],
   "source": [
    "delta_delta"
   ]
  },
  {
   "cell_type": "code",
   "execution_count": 21,
   "id": "f4d1c669",
   "metadata": {},
   "outputs": [
    {
     "data": {
      "image/png": "[encoded data removed]",
      "text/plain": [
       "<Figure size 432x288 with 1 Axes>"
      ]
     },
     "metadata": {
      "needs_background": "light"
     },
     "output_type": "display_data"
    },
    {
     "data": {
      "text/plain": [
       "2"
      ]
     },
     "execution_count": 21,
     "metadata": {},
     "output_type": "execute_result"
    }
   ],
   "source": [
    "find_elbow(dataset)"
   ]
  },
  {
   "cell_type": "code",
   "execution_count": null,
   "id": "554c079f",
   "metadata": {},
   "outputs": [],
   "source": []
  }
 ],
 "metadata": {
  "kernelspec": {
   "display_name": "recourse2",
   "language": "python",
   "name": "recourse2"
  },
  "language_info": {
   "codemirror_mode": {
    "name": "ipython",
    "version": 3
   },
   "file_extension": ".py",
   "mimetype": "text/x-python",
   "name": "python",
   "nbconvert_exporter": "python",
   "pygments_lexer": "ipython3",
   "version": "3.7.13"
  }
 },
 "nbformat": 4,
 "nbformat_minor": 5
}
