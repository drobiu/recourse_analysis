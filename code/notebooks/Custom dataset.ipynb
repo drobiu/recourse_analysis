{
 "cells": [
  {
   "cell_type": "code",
   "execution_count": 98,
   "id": "c9d442c5",
   "metadata": {},
   "outputs": [],
   "source": [
    "import warnings\n",
    "warnings.filterwarnings(\"ignore\")\n",
    "\n",
    "from carla.data.catalog import CsvCatalog\n",
    "from carla import MLModelCatalog\n",
    "from carla.recourse_methods import Clue, Wachter\n",
    "from carla.models.negative_instances import predict_negative_instances\n",
    "import numpy as np\n",
    "# import torch\n",
    "\n",
    "import sys\n",
    "sys.path.insert(0,'..')\n",
    "from recourse_util import update_dataset, train_recourse_method, predict, print_scores \n",
    "\n",
    "num = 10\n",
    "# print(torch.cuda.is_available())"
   ]
  },
  {
   "cell_type": "code",
   "execution_count": null,
   "id": "bd29d964",
   "metadata": {},
   "outputs": [],
   "source": [
    "def train_new_model(dataset):\n",
    "    model = MLModelCatalog(dataset, \"ann\", load_online=False, backend=\"pytorch\")\n",
    "    model.train(\n",
    "        learning_rate = 0.001,\n",
    "        epochs = 10,\n",
    "        max_depth = 50,\n",
    "        n_estimators = 50,\n",
    "        batch_size = 20,\n",
    "        force_train = True\n",
    "    )\n",
    "    return model"
   ]
  },
  {
   "cell_type": "code",
   "execution_count": null,
   "id": "1a0905ad",
   "metadata": {},
   "outputs": [],
   "source": [
    "dataset = CsvCatalog(\n",
    "    # file_path='datasets/bimodal_dataset_1.csv',\n",
    "    file_path='datasets/unimodal_dataset_1.csv',\n",
    "    # file_path='datasets/unimodal_dataset_2.csv',\n",
    "    categorical=[],\n",
    "    continuous=['feature1', 'feature2'],\n",
    "    immutables=[],\n",
    "    target='target'\n",
    ")"
   ]
  },
  {
   "cell_type": "code",
   "execution_count": null,
   "id": "21affbb9",
   "metadata": {},
   "outputs": [],
   "source": [
    "training_params = {\"lr\": 0.01, \"epochs\": 4, \"batch_size\": 1, \"hidden_size\": [4]}\n",
    "\n",
    "model = MLModelCatalog(\n",
    "    dataset,\n",
    "    model_type=\"ann\",\n",
    "    load_online=False,\n",
    "    backend=\"pytorch\"\n",
    ")\n",
    "\n",
    "model.train(\n",
    "    learning_rate=training_params[\"lr\"],\n",
    "    epochs=training_params[\"epochs\"],\n",
    "    batch_size=training_params[\"batch_size\"],\n",
    "    hidden_size=training_params[\"hidden_size\"],\n",
    "    force_train=True\n",
    ")"
   ]
  },
  {
   "cell_type": "code",
   "execution_count": null,
   "id": "5e14bf14",
   "metadata": {},
   "outputs": [],
   "source": [
    "hyperparams = {\n",
    "                \"data_name\": 'custom',\n",
    "                \"train_vae\": True,\n",
    "                \"width\": 10,\n",
    "                \"depth\": 3,\n",
    "                \"latent_dim\": 12,\n",
    "                \"batch_size\": 4,\n",
    "                \"epochs\": 5,\n",
    "                \"lr\": 0.0001,\n",
    "                \"early_stop\": 20,\n",
    "            }\n",
    "\n",
    "cl = train_recourse_method(dataset, model, 'custom', 'clue', hyperparams)"
   ]
  },
  {
   "cell_type": "code",
   "execution_count": 99,
   "id": "b61363b0",
   "metadata": {},
   "outputs": [],
   "source": [
    "hyperparams = {\n",
    "        \"loss_type\": \"BCE\"\n",
    "    }\n",
    "\n",
    "# load a recourse model and pass black box model\n",
    "cl = Wachter(model, hyperparams)"
   ]
  },
  {
   "cell_type": "code",
   "execution_count": 100,
   "id": "d91599c9",
   "metadata": {},
   "outputs": [
    {
     "name": "stdout",
     "output_type": "stream",
     "text": [
      "Number of factuals 10\n"
     ]
    },
    {
     "data": {
      "text/html": [
       "<div>\n",
       "<style scoped>\n",
       "    .dataframe tbody tr th:only-of-type {\n",
       "        vertical-align: middle;\n",
       "    }\n",
       "\n",
       "    .dataframe tbody tr th {\n",
       "        vertical-align: top;\n",
       "    }\n",
       "\n",
       "    .dataframe thead th {\n",
       "        text-align: right;\n",
       "    }\n",
       "</style>\n",
       "<table border=\"1\" class=\"dataframe\">\n",
       "  <thead>\n",
       "    <tr style=\"text-align: right;\">\n",
       "      <th></th>\n",
       "      <th>feature1</th>\n",
       "      <th>feature2</th>\n",
       "      <th>target</th>\n",
       "    </tr>\n",
       "  </thead>\n",
       "  <tbody>\n",
       "    <tr>\n",
       "      <th>82</th>\n",
       "      <td>0.219871</td>\n",
       "      <td>0.211270</td>\n",
       "      <td>0.0</td>\n",
       "    </tr>\n",
       "    <tr>\n",
       "      <th>86</th>\n",
       "      <td>0.409835</td>\n",
       "      <td>0.204356</td>\n",
       "      <td>0.0</td>\n",
       "    </tr>\n",
       "    <tr>\n",
       "      <th>54</th>\n",
       "      <td>0.148727</td>\n",
       "      <td>0.230646</td>\n",
       "      <td>0.0</td>\n",
       "    </tr>\n",
       "    <tr>\n",
       "      <th>73</th>\n",
       "      <td>0.180872</td>\n",
       "      <td>0.285400</td>\n",
       "      <td>0.0</td>\n",
       "    </tr>\n",
       "    <tr>\n",
       "      <th>58</th>\n",
       "      <td>0.169987</td>\n",
       "      <td>0.076563</td>\n",
       "      <td>0.0</td>\n",
       "    </tr>\n",
       "    <tr>\n",
       "      <th>69</th>\n",
       "      <td>0.248523</td>\n",
       "      <td>0.231950</td>\n",
       "      <td>0.0</td>\n",
       "    </tr>\n",
       "    <tr>\n",
       "      <th>52</th>\n",
       "      <td>0.071298</td>\n",
       "      <td>0.243434</td>\n",
       "      <td>0.0</td>\n",
       "    </tr>\n",
       "    <tr>\n",
       "      <th>89</th>\n",
       "      <td>0.237145</td>\n",
       "      <td>0.197705</td>\n",
       "      <td>0.0</td>\n",
       "    </tr>\n",
       "    <tr>\n",
       "      <th>22</th>\n",
       "      <td>0.178348</td>\n",
       "      <td>0.168054</td>\n",
       "      <td>0.0</td>\n",
       "    </tr>\n",
       "    <tr>\n",
       "      <th>29</th>\n",
       "      <td>0.200286</td>\n",
       "      <td>0.310336</td>\n",
       "      <td>0.0</td>\n",
       "    </tr>\n",
       "  </tbody>\n",
       "</table>\n",
       "</div>"
      ],
      "text/plain": [
       "    feature1  feature2  target\n",
       "82  0.219871  0.211270     0.0\n",
       "86  0.409835  0.204356     0.0\n",
       "54  0.148727  0.230646     0.0\n",
       "73  0.180872  0.285400     0.0\n",
       "58  0.169987  0.076563     0.0\n",
       "69  0.248523  0.231950     0.0\n",
       "52  0.071298  0.243434     0.0\n",
       "89  0.237145  0.197705     0.0\n",
       "22  0.178348  0.168054     0.0\n",
       "29  0.200286  0.310336     0.0"
      ]
     },
     "execution_count": 100,
     "metadata": {},
     "output_type": "execute_result"
    }
   ],
   "source": [
    "# generate counterfactual samples\n",
    "factuals = predict_negative_instances(model, dataset._df).sample(num)\n",
    "print(\"Number of factuals\", len(factuals))\n",
    "factuals"
   ]
  },
  {
   "cell_type": "code",
   "execution_count": 101,
   "id": "3787183a",
   "metadata": {},
   "outputs": [
    {
     "name": "stdout",
     "output_type": "stream",
     "text": [
      "[INFO] Counterfactual Explanation Found [wachter.py wachter_recourse]\n",
      "[INFO] Counterfactual Explanation Found [wachter.py wachter_recourse]\n",
      "[INFO] Counterfactual Explanation Found [wachter.py wachter_recourse]\n",
      "[INFO] Counterfactual Explanation Found [wachter.py wachter_recourse]\n",
      "[INFO] Counterfactual Explanation Found [wachter.py wachter_recourse]\n",
      "[INFO] Counterfactual Explanation Found [wachter.py wachter_recourse]\n",
      "[INFO] Counterfactual Explanation Found [wachter.py wachter_recourse]\n",
      "[INFO] Counterfactual Explanation Found [wachter.py wachter_recourse]\n",
      "[INFO] Counterfactual Explanation Found [wachter.py wachter_recourse]\n",
      "[INFO] Counterfactual Explanation Found [wachter.py wachter_recourse]\n",
      "Number of counterfactuals: 10\n"
     ]
    },
    {
     "data": {
      "text/html": [
       "<div>\n",
       "<style scoped>\n",
       "    .dataframe tbody tr th:only-of-type {\n",
       "        vertical-align: middle;\n",
       "    }\n",
       "\n",
       "    .dataframe tbody tr th {\n",
       "        vertical-align: top;\n",
       "    }\n",
       "\n",
       "    .dataframe thead th {\n",
       "        text-align: right;\n",
       "    }\n",
       "</style>\n",
       "<table border=\"1\" class=\"dataframe\">\n",
       "  <thead>\n",
       "    <tr style=\"text-align: right;\">\n",
       "      <th></th>\n",
       "      <th>feature1</th>\n",
       "      <th>feature2</th>\n",
       "      <th>target</th>\n",
       "    </tr>\n",
       "  </thead>\n",
       "  <tbody>\n",
       "    <tr>\n",
       "      <th>82</th>\n",
       "      <td>0.463224</td>\n",
       "      <td>0.454617</td>\n",
       "      <td>1.0</td>\n",
       "    </tr>\n",
       "    <tr>\n",
       "      <th>86</th>\n",
       "      <td>0.546443</td>\n",
       "      <td>0.340958</td>\n",
       "      <td>1.0</td>\n",
       "    </tr>\n",
       "    <tr>\n",
       "      <th>54</th>\n",
       "      <td>0.430544</td>\n",
       "      <td>0.512456</td>\n",
       "      <td>1.0</td>\n",
       "    </tr>\n",
       "    <tr>\n",
       "      <th>73</th>\n",
       "      <td>0.423481</td>\n",
       "      <td>0.528002</td>\n",
       "      <td>1.0</td>\n",
       "    </tr>\n",
       "    <tr>\n",
       "      <th>58</th>\n",
       "      <td>0.500729</td>\n",
       "      <td>0.407296</td>\n",
       "      <td>1.0</td>\n",
       "    </tr>\n",
       "    <tr>\n",
       "      <th>69</th>\n",
       "      <td>0.471791</td>\n",
       "      <td>0.455211</td>\n",
       "      <td>1.0</td>\n",
       "    </tr>\n",
       "    <tr>\n",
       "      <th>52</th>\n",
       "      <td>0.392513</td>\n",
       "      <td>0.564639</td>\n",
       "      <td>1.0</td>\n",
       "    </tr>\n",
       "    <tr>\n",
       "      <th>89</th>\n",
       "      <td>0.479938</td>\n",
       "      <td>0.440491</td>\n",
       "      <td>1.0</td>\n",
       "    </tr>\n",
       "    <tr>\n",
       "      <th>22</th>\n",
       "      <td>0.469598</td>\n",
       "      <td>0.459295</td>\n",
       "      <td>1.0</td>\n",
       "    </tr>\n",
       "    <tr>\n",
       "      <th>29</th>\n",
       "      <td>0.423259</td>\n",
       "      <td>0.533303</td>\n",
       "      <td>1.0</td>\n",
       "    </tr>\n",
       "  </tbody>\n",
       "</table>\n",
       "</div>"
      ],
      "text/plain": [
       "    feature1  feature2  target\n",
       "82  0.463224  0.454617     1.0\n",
       "86  0.546443  0.340958     1.0\n",
       "54  0.430544  0.512456     1.0\n",
       "73  0.423481  0.528002     1.0\n",
       "58  0.500729  0.407296     1.0\n",
       "69  0.471791  0.455211     1.0\n",
       "52  0.392513  0.564639     1.0\n",
       "89  0.479938  0.440491     1.0\n",
       "22  0.469598  0.459295     1.0\n",
       "29  0.423259  0.533303     1.0"
      ]
     },
     "execution_count": 101,
     "metadata": {},
     "output_type": "execute_result"
    }
   ],
   "source": [
    "counterfactuals = cl.get_counterfactuals(factuals)\n",
    "print(\"Number of counterfactuals:\", len(counterfactuals.dropna()))\n",
    "counterfactuals"
   ]
  },
  {
   "cell_type": "code",
   "execution_count": 102,
   "id": "39c4078a",
   "metadata": {},
   "outputs": [],
   "source": [
    "post = dataset._df.copy()\n",
    "update_dataset(post, factuals, counterfactuals)"
   ]
  },
  {
   "cell_type": "code",
   "execution_count": 103,
   "id": "a5da609a",
   "metadata": {},
   "outputs": [
    {
     "data": {
      "image/png": "[encoded data removed]",
      "text/plain": [
       "<Figure size 432x288 with 1 Axes>"
      ]
     },
     "metadata": {
      "needs_background": "light"
     },
     "output_type": "display_data"
    },
    {
     "data": {
      "image/png": "[encoded data removed]",
      "text/plain": [
       "<Figure size 432x288 with 1 Axes>"
      ]
     },
     "metadata": {
      "needs_background": "light"
     },
     "output_type": "display_data"
    }
   ],
   "source": [
    "import matplotlib.pyplot as plt\n",
    "\n",
    "plt.scatter(dataset._df['feature1'], dataset._df['feature2'], c=dataset._df['target'])\n",
    "plt.show()\n",
    "\n",
    "plt.scatter(post['feature1'], post['feature2'], c=post['target'])\n",
    "plt.show()\n",
    "\n",
    "# plt.scatter(factuals['feature1'], factuals['feature2'], c=factuals['target'])\n",
    "# plt.show()"
   ]
  },
  {
   "cell_type": "code",
   "execution_count": null,
   "id": "8ff3d8ca",
   "metadata": {},
   "outputs": [],
   "source": []
  }
 ],
 "metadata": {
  "kernelspec": {
   "display_name": "recourse2",
   "language": "python",
   "name": "recourse2"
  },
  "language_info": {
   "codemirror_mode": {
    "name": "ipython",
    "version": 3
   },
   "file_extension": ".py",
   "mimetype": "text/x-python",
   "name": "python",
   "nbconvert_exporter": "python",
   "pygments_lexer": "ipython3",
   "version": "3.7.13"
  }
 },
 "nbformat": 4,
 "nbformat_minor": 5
}
