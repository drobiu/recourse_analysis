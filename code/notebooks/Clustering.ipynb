{
 "cells": [
  {
   "cell_type": "code",
   "execution_count": 14,
   "id": "1bf01a2d",
   "metadata": {},
   "outputs": [],
   "source": [
    "# import warnings\n",
    "# warnings.filterwarnings(\"ignore\")\n",
    "\n",
    "from carla.data.catalog import CsvCatalog\n",
    "from carla import MLModelCatalog\n",
    "from carla.recourse_methods import Clue, Wachter\n",
    "from carla.models.negative_instances import predict_negative_instances\n",
    "from sklearn.cluster import KMeans\n",
    "import numpy as np\n",
    "import matplotlib.pyplot as plt\n",
    "\n",
    "import sys\n",
    "sys.path.insert(0,'..')\n",
    "from recourse_util import update_dataset, train_recourse_method, predict, print_scores \n",
    "\n",
    "num = 10"
   ]
  },
  {
   "cell_type": "code",
   "execution_count": 59,
   "id": "961c086e",
   "metadata": {},
   "outputs": [],
   "source": [
    "dataset = CsvCatalog(\n",
    "    file_path='datasets/bimodal_dataset_1.csv',\n",
    "    categorical=[],\n",
    "    continuous=['feature1', 'feature2'],\n",
    "    immutables=[],\n",
    "    target='target'\n",
    ")"
   ]
  },
  {
   "cell_type": "code",
   "execution_count": 60,
   "id": "6fbac431",
   "metadata": {},
   "outputs": [],
   "source": [
    "distortions = []"
   ]
  },
  {
   "cell_type": "code",
   "execution_count": 61,
   "id": "4a19744b",
   "metadata": {},
   "outputs": [],
   "source": [
    "for i in range(1, 10):\n",
    "    kmeans = KMeans(i).fit(dataset._df[dataset.continuous])\n",
    "    distortions.append(kmeans.inertia_)"
   ]
  },
  {
   "cell_type": "code",
   "execution_count": 62,
   "id": "35a7cf03",
   "metadata": {},
   "outputs": [],
   "source": [
    "delta = [distortions[n] - distortions[n+1] for n in range(len(distortions) - 1)]\n",
    "delta_delta = [delta[n] - delta[n+1] for n in range(len(delta) - 1)]"
   ]
  },
  {
   "cell_type": "code",
   "execution_count": 63,
   "id": "78f9aa86",
   "metadata": {},
   "outputs": [
    {
     "data": {
      "image/png": "[encoded data removed]",
      "text/plain": [
       "<Figure size 432x288 with 1 Axes>"
      ]
     },
     "metadata": {
      "needs_background": "light"
     },
     "output_type": "display_data"
    }
   ],
   "source": [
    "plt.plot(distortions)\n",
    "plt.plot(delta)\n",
    "plt.plot(delta_delta)\n",
    "plt.show()"
   ]
  },
  {
   "cell_type": "code",
   "execution_count": 67,
   "id": "bd55551e",
   "metadata": {},
   "outputs": [],
   "source": [
    "delta_delta = delta_delta/np.max(delta_delta)"
   ]
  },
  {
   "cell_type": "code",
   "execution_count": 68,
   "id": "b0d25549",
   "metadata": {},
   "outputs": [
    {
     "data": {
      "text/plain": [
       "array([1.00000000e+00, 5.84631290e-03, 7.32469732e-02, 3.53126877e-03,\n",
       "       5.09369324e-03, 3.33205447e-04, 3.47744550e-03])"
      ]
     },
     "execution_count": 68,
     "metadata": {},
     "output_type": "execute_result"
    }
   ],
   "source": [
    "delta_delta"
   ]
  },
  {
   "cell_type": "code",
   "execution_count": null,
   "id": "2674be23",
   "metadata": {},
   "outputs": [],
   "source": []
  }
 ],
 "metadata": {
  "kernelspec": {
   "display_name": "recourse2",
   "language": "python",
   "name": "recourse2"
  },
  "language_info": {
   "codemirror_mode": {
    "name": "ipython",
    "version": 3
   },
   "file_extension": ".py",
   "mimetype": "text/x-python",
   "name": "python",
   "nbconvert_exporter": "python",
   "pygments_lexer": "ipython3",
   "version": "3.7.13"
  }
 },
 "nbformat": 4,
 "nbformat_minor": 5
}
