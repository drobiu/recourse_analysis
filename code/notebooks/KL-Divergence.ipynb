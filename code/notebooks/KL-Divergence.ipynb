{
 "cells": [
  {
   "cell_type": "code",
   "execution_count": null,
   "id": "450ce005",
   "metadata": {},
   "outputs": [],
   "source": [
    "import numpy as np\n",
    "numBins = 5  # number of bins in each dimension\n",
    "data = np.random.randn(10, 3)  # generate 100000 3-d random data points\n",
    "a, edges = np.histogramdd(data, bins=numBins)\n",
    "a /= a.sum()\n",
    "data = np.random.randn(10, 3)  # generate 100000 3-d random data points\n",
    "b, edges = np.histogramdd(data, bins=numBins)\n",
    "b /= b.sum()"
   ]
  },
  {
   "cell_type": "code",
   "execution_count": null,
   "id": "b4e0f541",
   "metadata": {},
   "outputs": [],
   "source": [
    "np.sum(np.where(a != 0, a * np.log(a / b), 0))"
   ]
  },
  {
   "cell_type": "code",
   "execution_count": null,
   "id": "766c4d0e",
   "metadata": {},
   "outputs": [],
   "source": []
  }
 ],
 "metadata": {
  "kernelspec": {
   "display_name": "recourse2",
   "language": "python",
   "name": "recourse2"
  },
  "language_info": {
   "codemirror_mode": {
    "name": "ipython",
    "version": 3
   },
   "file_extension": ".py",
   "mimetype": "text/x-python",
   "name": "python",
   "nbconvert_exporter": "python",
   "pygments_lexer": "ipython3",
   "version": "3.7.13"
  }
 },
 "nbformat": 4,
 "nbformat_minor": 5
}
