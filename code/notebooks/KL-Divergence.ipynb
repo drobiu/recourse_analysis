{
 "cells": [
  {
   "cell_type": "code",
   "execution_count": 15,
   "id": "b8f74b53",
   "metadata": {},
   "outputs": [],
   "source": [
    "import numpy as np\n",
    "numBins = 5  # number of bins in each dimension\n",
    "data = np.random.randn(10, 3)  # generate 100000 3-d random data points\n",
    "a, edges = np.histogramdd(data, bins=numBins)\n",
    "a /= a.sum()\n",
    "data = np.random.randn(10, 3)  # generate 100000 3-d random data points\n",
    "b, edges = np.histogramdd(data, bins=numBins)\n",
    "b /= b.sum()"
   ]
  },
  {
   "cell_type": "code",
   "execution_count": 19,
   "id": "f93f7a20",
   "metadata": {},
   "outputs": [
    {
     "name": "stderr",
     "output_type": "stream",
     "text": [
      "C:\\Users\\drobi\\anaconda3\\envs\\recourse2\\lib\\site-packages\\ipykernel_launcher.py:1: RuntimeWarning: divide by zero encountered in true_divide\n",
      "  \"\"\"Entry point for launching an IPython kernel.\n",
      "C:\\Users\\drobi\\anaconda3\\envs\\recourse2\\lib\\site-packages\\ipykernel_launcher.py:1: RuntimeWarning: invalid value encountered in true_divide\n",
      "  \"\"\"Entry point for launching an IPython kernel.\n",
      "C:\\Users\\drobi\\anaconda3\\envs\\recourse2\\lib\\site-packages\\ipykernel_launcher.py:1: RuntimeWarning: divide by zero encountered in log\n",
      "  \"\"\"Entry point for launching an IPython kernel.\n",
      "C:\\Users\\drobi\\anaconda3\\envs\\recourse2\\lib\\site-packages\\ipykernel_launcher.py:1: RuntimeWarning: invalid value encountered in multiply\n",
      "  \"\"\"Entry point for launching an IPython kernel.\n"
     ]
    },
    {
     "data": {
      "text/plain": [
       "inf"
      ]
     },
     "execution_count": 19,
     "metadata": {},
     "output_type": "execute_result"
    }
   ],
   "source": [
    "np.sum(np.where(a != 0, a * np.log(a / b), 0))"
   ]
  },
  {
   "cell_type": "code",
   "execution_count": null,
   "id": "9e875d3b",
   "metadata": {},
   "outputs": [],
   "source": []
  }
 ],
 "metadata": {
  "kernelspec": {
   "display_name": "recourse2",
   "language": "python",
   "name": "recourse2"
  },
  "language_info": {
   "codemirror_mode": {
    "name": "ipython",
    "version": 3
   },
   "file_extension": ".py",
   "mimetype": "text/x-python",
   "name": "python",
   "nbconvert_exporter": "python",
   "pygments_lexer": "ipython3",
   "version": "3.7.13"
  }
 },
 "nbformat": 4,
 "nbformat_minor": 5
}
