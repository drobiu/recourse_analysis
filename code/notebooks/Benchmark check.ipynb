{
 "cells": [
  {
   "cell_type": "code",
   "execution_count": null,
   "id": "f26d54a4",
   "metadata": {},
   "outputs": [],
   "source": [
    "import warnings\n",
    "warnings.filterwarnings(\"ignore\")\n",
    "\n",
    "from carla.data.catalog import OnlineCatalog\n",
    "from carla import MLModelCatalog\n",
    "from carla.recourse_methods import Clue, Wachter\n",
    "from carla.models.negative_instances import predict_negative_instances\n",
    "from carla.evaluation.benchmark import Benchmark\n",
    "import numpy as np\n",
    "import pandas as pd\n",
    "from sklearn.metrics import f1_score, accuracy_score\n",
    "from time import perf_counter\n",
    "\n",
    "num = 10\n",
    "data_name = \"compas\""
   ]
  },
  {
   "cell_type": "code",
   "execution_count": null,
   "id": "de2220c2",
   "metadata": {},
   "outputs": [],
   "source": [
    "dataset = OnlineCatalog(data_name)"
   ]
  },
  {
   "cell_type": "code",
   "execution_count": null,
   "id": "a3372972",
   "metadata": {},
   "outputs": [],
   "source": [
    "model = MLModelCatalog(dataset, \"ann\", backend=\"pytorch\")\n",
    "model.train(\n",
    "    learning_rate = 0.001,\n",
    "    epochs = 10,\n",
    "    max_depth = 50,\n",
    "    n_estimators = 50,\n",
    "    batch_size = 20,\n",
    "    force_train = True\n",
    ")"
   ]
  },
  {
   "cell_type": "code",
   "execution_count": null,
   "id": "75cf66a5",
   "metadata": {},
   "outputs": [],
   "source": [
    "hyperparams = {\n",
    "    \"data_name\": data_name,\n",
    "    \"train_vae\": True,\n",
    "    \"width\": 10,\n",
    "    \"depth\": 3,\n",
    "    \"latent_dim\": 12,\n",
    "    \"batch_size\": 64,\n",
    "    \"epochs\": 1,\n",
    "    \"lr\": 0.001,\n",
    "    \"early_stop\": 20,\n",
    "}\n",
    "# load a recourse model and pass black box model\n",
    "cl = Clue(dataset, model, hyperparams)\n",
    "\n",
    "wa = Wachter(model, {\"loss_type\": \"BCE\"})"
   ]
  },
  {
   "cell_type": "code",
   "execution_count": null,
   "id": "c687282e",
   "metadata": {},
   "outputs": [],
   "source": [
    "factuals = predict_negative_instances(model, dataset._df).sample(10)\n",
    "\n",
    "wa_counterfactuals = wa.get_counterfactuals(factuals)\n",
    "cl_counterfactuals = cl.get_counterfactuals(factuals)"
   ]
  },
  {
   "cell_type": "code",
   "execution_count": null,
   "id": "800f5ab5",
   "metadata": {},
   "outputs": [],
   "source": [
    "display(factuals.index)\n",
    "display(cl_counterfactuals.index)\n",
    "display(wa_counterfactuals.index)"
   ]
  },
  {
   "cell_type": "code",
   "execution_count": null,
   "id": "30974898",
   "metadata": {},
   "outputs": [],
   "source": [
    "benchmark = Benchmark(model, wa, factuals)"
   ]
  },
  {
   "cell_type": "code",
   "execution_count": null,
   "id": "e60e0c7a",
   "metadata": {},
   "outputs": [],
   "source": [
    "benchmark.run_benchmark()"
   ]
  },
  {
   "cell_type": "code",
   "execution_count": null,
   "id": "9f66b009",
   "metadata": {},
   "outputs": [],
   "source": [
    "factuals.index\n",
    "model.feature_input_order"
   ]
  },
  {
   "cell_type": "code",
   "execution_count": null,
   "id": "9ef34f93",
   "metadata": {},
   "outputs": [],
   "source": [
    "df_cfs = pd.DataFrame(\n",
    "    np.array(factuals[model.feature_input_order]), columns=model.feature_input_order, index=list(factuals.index)\n",
    ")"
   ]
  },
  {
   "cell_type": "code",
   "execution_count": null,
   "id": "65d63b88",
   "metadata": {},
   "outputs": [],
   "source": [
    "df_cfs.index = factuals.index"
   ]
  },
  {
   "cell_type": "code",
   "execution_count": null,
   "id": "35a01ac2",
   "metadata": {},
   "outputs": [],
   "source": [
    "df_cfs"
   ]
  },
  {
   "cell_type": "code",
   "execution_count": null,
   "id": "ace13f74",
   "metadata": {},
   "outputs": [],
   "source": []
  }
 ],
 "metadata": {
  "kernelspec": {
   "display_name": "recourse2",
   "language": "python",
   "name": "recourse2"
  },
  "language_info": {
   "codemirror_mode": {
    "name": "ipython",
    "version": 3
   },
   "file_extension": ".py",
   "mimetype": "text/x-python",
   "name": "python",
   "nbconvert_exporter": "python",
   "pygments_lexer": "ipython3",
   "version": "3.7.13"
  }
 },
 "nbformat": 4,
 "nbformat_minor": 5
}
